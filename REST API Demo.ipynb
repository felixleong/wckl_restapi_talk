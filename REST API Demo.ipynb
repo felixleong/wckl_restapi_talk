{
 "metadata": {
  "name": "REST API Demo"
 },
 "nbformat": 3,
 "nbformat_minor": 0,
 "worksheets": [
  {
   "cells": [
    {
     "cell_type": "heading",
     "level": 1,
     "metadata": {},
     "source": [
      "Demo code of REST API consumption"
     ]
    },
    {
     "cell_type": "code",
     "collapsed": true,
     "input": [
      "# Load the requests library\n",
      "import requests"
     ],
     "language": "python",
     "metadata": {},
     "outputs": []
    },
    {
     "cell_type": "heading",
     "level": 2,
     "metadata": {},
     "source": [
      "Requesting the REST API schema"
     ]
    },
    {
     "cell_type": "code",
     "collapsed": true,
     "input": [
      "# Execute the request library\n",
      "response = requests.get('http://localhost:8000/api/v1/')\n",
      "print response.json()"
     ],
     "language": "python",
     "metadata": {},
     "outputs": []
    }
   ],
   "metadata": {}
  }
 ]
}