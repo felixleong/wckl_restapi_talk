{
 "metadata": {
  "name": "REST API Demo"
 },
 "nbformat": 3,
 "nbformat_minor": 0,
 "worksheets": [
  {
   "cells": [
    {
     "cell_type": "heading",
     "level": 1,
     "metadata": {},
     "source": [
      "Demo code of REST API consumption"
     ]
    },
    {
     "cell_type": "markdown",
     "metadata": {},
     "source": [
      "**IMPORTANT**\n",
      "\n",
      "1. You'll need to load the sample data within restapi_talk/fundtracking/fixtures/sample_data.json for the example code to work.\n",
      "2. Please run the Django server before executing these code, because if you don't all you get is ConnectionErrors :p\n",
      "3. Execute the code in the next cell to import the requests library before executing anything else."
     ]
    },
    {
     "cell_type": "code",
     "collapsed": true,
     "input": [
      "# Load the requests library - Run this cell first!\n",
      "import requests\n",
      "import json"
     ],
     "language": "python",
     "metadata": {},
     "outputs": []
    },
    {
     "cell_type": "markdown",
     "metadata": {},
     "source": [
      "## Making queries"
     ]
    },
    {
     "cell_type": "code",
     "collapsed": false,
     "input": [
      "# Retrieve the list of fund houses available\n",
      "response = requests.get('http://localhost:8000/api/v1/fundhouse/')\n",
      "response.json()"
     ],
     "language": "python",
     "metadata": {},
     "outputs": []
    },
    {
     "cell_type": "code",
     "collapsed": false,
     "input": [
      "# It's a good idea that we are able to look out for related objects \u2013\u00a0in this case, funds managed by Public Mutual\n",
      "response = requests.get('http://localhost:8000/api/v1/fundhouse/1/fund/')\n",
      "response.json()"
     ],
     "language": "python",
     "metadata": {},
     "outputs": []
    },
    {
     "cell_type": "code",
     "collapsed": false,
     "input": [
      "# Retrieving an object would be straight-forward by using some identifier\n",
      "response = requests.get('http://localhost:8000/api/v1/fund/PIX/')\n",
      "response.json()"
     ],
     "language": "python",
     "metadata": {},
     "outputs": []
    },
    {
     "cell_type": "code",
     "collapsed": false,
     "input": [
      "# Notice the meta section?\n",
      "# Metadata helps the our machine parsing friend to know what to expect, like paging :)\n",
      "response = requests.get('http://localhost:8000/api/v1/fund/PIX/price/?limit=5')\n",
      "response.json()"
     ],
     "language": "python",
     "metadata": {},
     "outputs": []
    },
    {
     "cell_type": "code",
     "collapsed": false,
     "input": [
      "# What if we wanna do some querying based on criteria? Use GET parameters :)\n",
      "response = requests.get('http://localhost:8000/api/v1/price/?date=2013-05-20')\n",
      "response.json()"
     ],
     "language": "python",
     "metadata": {},
     "outputs": []
    },
    {
     "cell_type": "markdown",
     "metadata": {},
     "source": [
      "### Let's Try Some CRUD other than the R (Retrieval)!"
     ]
    },
    {
     "cell_type": "code",
     "collapsed": false,
     "input": [
      "# Let's start with \"C\" (Create) = POST\n",
      "response = requests.post(\n",
      "  'http://localhost:8000/api/v1/annotation/',\n",
      "  json.dumps({'price': '/api/v1/price/1/', 'note': 'Dividend paid: 0.5321'}),\n",
      "  headers={'Content-Type': 'application/json'}\n",
      ")\n",
      "# We should be expecting a 201 (Created) with the URL of the created annotation\n",
      "print response.status_code, response.headers.get('location', 'OOPS!')"
     ],
     "language": "python",
     "metadata": {},
     "outputs": []
    },
    {
     "cell_type": "code",
     "collapsed": false,
     "input": [
      "# Let's just do a \"R\" (Retrieval) = GET, so that you know I'm not bluffing :p\n",
      "response = requests.get('http://localhost:8000/api/v1/annotation/1/')\n",
      "response.json()"
     ],
     "language": "python",
     "metadata": {},
     "outputs": []
    },
    {
     "cell_type": "code",
     "collapsed": false,
     "input": [
      "# Followed by \"U\" (Update) = PUT\n",
      "response = requests.put(\n",
      "  'http://localhost:8000/api/v1/annotation/1/',\n",
      "  json.dumps({'note': 'Oops! They did not pay me :('}),\n",
      "  headers={'Content-Type': 'application/json'}\n",
      ")\n",
      "# Expecting 204 (No-Content), indicating success but no content returned\n",
      "print response.status_code\n",
      "\n",
      "# Just to verify the data returned...\n",
      "response = requests.get('http://localhost:8000/api/v1/annotation/1/')\n",
      "response.json()"
     ],
     "language": "python",
     "metadata": {},
     "outputs": []
    },
    {
     "cell_type": "code",
     "collapsed": false,
     "input": [
      "# Wrapping things up with a big \"D\" (Delete) = DELETE\n",
      "response = requests.delete('http://localhost:8000/api/v1/annotation/1/')\n",
      "# Expecting 204 (No-Content), indicating success but no content returned\n",
      "print '# After deletion', response.status_code\n",
      "\n",
      "# Just to verify the data returned...\n",
      "response = requests.get('http://localhost:8000/api/v1/annotation/1/')\n",
      "# This should 404\n",
      "print '# After getting the deleted content', response.status_code"
     ],
     "language": "python",
     "metadata": {},
     "outputs": []
    },
    {
     "cell_type": "markdown",
     "metadata": {},
     "source": [
      "### Unauthorized Operations *(i.e. You Shall Not Pass!)*"
     ]
    },
    {
     "cell_type": "code",
     "collapsed": false,
     "input": [
      "# Accessing an API endpoint that requires authentication\n",
      "response = requests.get('http://localhost:8000/api/v1/fundhouse_needauth/')\n",
      "# Expecting a 401 (Unauthorized)\n",
      "print response.status_code"
     ],
     "language": "python",
     "metadata": {},
     "outputs": []
    },
    {
     "cell_type": "code",
     "collapsed": false,
     "input": [
      "# Accessing an read-only API\n",
      "response = requests.post(\n",
      "  'http://localhost:8000/api/v1/fund/',\n",
      "  json.dumps({\n",
      "    'fund_house': '/api/v1/fundhouse/1/',\n",
      "    'code': 'PDSF',\n",
      "    'name': 'Public Dividend Select Fund'}),\n",
      "  headers={'Content-Type': 'application/json'})\n",
      "# Expecting a 405 (Method Not Allowed)\n",
      "print response.status_code"
     ],
     "language": "python",
     "metadata": {},
     "outputs": []
    },
    {
     "cell_type": "markdown",
     "metadata": {},
     "source": [
      "## Self-documenting API *(Nice-to-Have's)*"
     ]
    },
    {
     "cell_type": "code",
     "collapsed": true,
     "input": [
      "# List of API endpoints\n",
      "response = requests.get('http://localhost:8000/api/v1/')\n",
      "response.json()"
     ],
     "language": "python",
     "metadata": {},
     "outputs": []
    },
    {
     "cell_type": "code",
     "collapsed": false,
     "input": [
      "# Data structure of a resource\n",
      "response = requests.get('http://localhost:8000/api/v1/fund/schema/')\n",
      "response.json()"
     ],
     "language": "python",
     "metadata": {},
     "outputs": []
    }
   ],
   "metadata": {}
  }
 ]
}