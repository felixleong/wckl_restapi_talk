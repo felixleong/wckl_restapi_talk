{
 "metadata": {
  "name": "REST API Demo"
 },
 "nbformat": 3,
 "nbformat_minor": 0,
 "worksheets": [
  {
   "cells": [
    {
     "cell_type": "heading",
     "level": 1,
     "metadata": {},
     "source": [
      "Demo code of REST API consumption"
     ]
    },
    {
     "cell_type": "markdown",
     "metadata": {},
     "source": [
      "**IMPORTANT**\n",
      "\n",
      "1. You'll need to load the sample data within restapi_talk/fundtracking/fixtures/sample_data.json for the example code to work.\n",
      "2. Execute the code in the next cell to import the requests library before executing anything else."
     ]
    },
    {
     "cell_type": "code",
     "collapsed": true,
     "input": [
      "# Load the requests library - Run this cell first!\n",
      "import requests"
     ],
     "language": "python",
     "metadata": {},
     "outputs": []
    },
    {
     "cell_type": "markdown",
     "metadata": {},
     "source": [
      "## Making queries"
     ]
    },
    {
     "cell_type": "code",
     "collapsed": false,
     "input": [
      "# Retrieve the list of funds available\n",
      "response = requests.get('http://localhost:8000/api/v1/fund/')\n",
      "response.json()"
     ],
     "language": "python",
     "metadata": {},
     "outputs": []
    },
    {
     "cell_type": "code",
     "collapsed": false,
     "input": [
      "# Needs filtering for RESTful API? Use GET parameters\n",
      "response = requests.get('http://localhost:8000/api/v1/fund/?fund_house=1')\n",
      "response.json()"
     ],
     "language": "python",
     "metadata": {},
     "outputs": []
    },
    {
     "cell_type": "code",
     "collapsed": false,
     "input": [
      "# Retrieving an object would be straight-forward by using some identifier\n",
      "response = requests.get('http://localhost:8000/api/v1/fund/PIX/')\n",
      "response.json()"
     ],
     "language": "python",
     "metadata": {},
     "outputs": []
    },
    {
     "cell_type": "code",
     "collapsed": false,
     "input": [
      "# It's probably a good idea to have API endpoints to retrieve related resources\n",
      "response = requests.get('http://localhost:8000/api/v1/fund/PIX/price/')\n",
      "response.json()"
     ],
     "language": "python",
     "metadata": {},
     "outputs": []
    },
    {
     "cell_type": "markdown",
     "metadata": {},
     "source": [
      "### Let's Try Some CRUD other than the R (Retrieval)!"
     ]
    },
    {
     "cell_type": "markdown",
     "metadata": {},
     "source": [
      "## Self-documenting API *(optional)*"
     ]
    },
    {
     "cell_type": "code",
     "collapsed": true,
     "input": [
      "# List of API endpoints\n",
      "response = requests.get('http://localhost:8000/api/v1/')\n",
      "response.json()"
     ],
     "language": "python",
     "metadata": {},
     "outputs": []
    },
    {
     "cell_type": "code",
     "collapsed": false,
     "input": [
      "# Data structure of a resource\n",
      "response = requests.get('http://localhost:8000/api/v1/fund/schema/')\n",
      "response.json()"
     ],
     "language": "python",
     "metadata": {},
     "outputs": []
    }
   ],
   "metadata": {}
  }
 ]
}